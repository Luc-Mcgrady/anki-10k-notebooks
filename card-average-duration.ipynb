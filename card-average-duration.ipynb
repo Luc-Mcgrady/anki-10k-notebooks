{
 "cells": [
  {
   "cell_type": "code",
   "execution_count": 1,
   "metadata": {},
   "outputs": [],
   "source": [
    "import pandas as pd\n",
    "import matplotlib.pyplot as plt\n",
    "import os\n",
    "import sys\n",
    "from tqdm.auto import tqdm\n",
    "sys.path.insert(0, os.path.abspath(\"../fsrs-optimizer/src/fsrs_optimizer/\"))\n",
    "\n",
    "tqdm.pandas()"
   ]
  },
  {
   "cell_type": "code",
   "execution_count": 4,
   "metadata": {},
   "outputs": [
    {
     "data": {
      "text/html": [
       "<div>\n",
       "<style scoped>\n",
       "    .dataframe tbody tr th:only-of-type {\n",
       "        vertical-align: middle;\n",
       "    }\n",
       "\n",
       "    .dataframe tbody tr th {\n",
       "        vertical-align: top;\n",
       "    }\n",
       "\n",
       "    .dataframe thead th {\n",
       "        text-align: right;\n",
       "    }\n",
       "</style>\n",
       "<table border=\"1\" class=\"dataframe\">\n",
       "  <thead>\n",
       "    <tr style=\"text-align: right;\">\n",
       "      <th></th>\n",
       "      <th>card_id</th>\n",
       "      <th>duration</th>\n",
       "    </tr>\n",
       "  </thead>\n",
       "  <tbody>\n",
       "    <tr>\n",
       "      <th>count</th>\n",
       "      <td>9731118</td>\n",
       "      <td>9731118</td>\n",
       "    </tr>\n",
       "    <tr>\n",
       "      <th>mean</th>\n",
       "      <td>12625</td>\n",
       "      <td>12895</td>\n",
       "    </tr>\n",
       "    <tr>\n",
       "      <th>std</th>\n",
       "      <td>13908</td>\n",
       "      <td>16407</td>\n",
       "    </tr>\n",
       "    <tr>\n",
       "      <th>min</th>\n",
       "      <td>0</td>\n",
       "      <td>1</td>\n",
       "    </tr>\n",
       "    <tr>\n",
       "      <th>25%</th>\n",
       "      <td>2393</td>\n",
       "      <td>3675</td>\n",
       "    </tr>\n",
       "    <tr>\n",
       "      <th>50%</th>\n",
       "      <td>6992</td>\n",
       "      <td>6791</td>\n",
       "    </tr>\n",
       "    <tr>\n",
       "      <th>75%</th>\n",
       "      <td>18020</td>\n",
       "      <td>14054</td>\n",
       "    </tr>\n",
       "    <tr>\n",
       "      <th>max</th>\n",
       "      <td>67505</td>\n",
       "      <td>1000000</td>\n",
       "    </tr>\n",
       "  </tbody>\n",
       "</table>\n",
       "</div>"
      ],
      "text/plain": [
       "       card_id duration\n",
       "count  9731118  9731118\n",
       "mean     12625    12895\n",
       "std      13908    16407\n",
       "min          0        1\n",
       "25%       2393     3675\n",
       "50%       6992     6791\n",
       "75%      18020    14054\n",
       "max      67505  1000000"
      ]
     },
     "execution_count": 4,
     "metadata": {},
     "output_type": "execute_result"
    }
   ],
   "source": [
    "group = [\"user_id\", \"card_id\"]\n",
    "df = pd.read_parquet(\n",
    "    \"../anki-revlogs-10k/revlogs\", filters=[(\"user_id\", \"<\", 150), (\"duration\", \">\", 0)], columns=[\"card_id\", \"duration\", \"user_id\"]\n",
    ")\n",
    "# https://stackoverflow.com/a/47207283/24162642\n",
    "df.describe().apply(lambda s: s.apply('{0:.0f}'.format))"
   ]
  },
  {
   "cell_type": "code",
   "execution_count": 5,
   "metadata": {},
   "outputs": [
    {
     "name": "stderr",
     "output_type": "stream",
     "text": [
      "/tmp/ipykernel_14742/349365226.py:1: FutureWarning: The default of observed=False is deprecated and will be changed to True in a future version of pandas. Pass observed=False to retain current behavior or observed=True to adopt the future default and silence this warning.\n",
      "  group_sizes = df.groupby(group).filter(lambda x: len(x) > 5)\n"
     ]
    }
   ],
   "source": [
    "group_sizes = df.groupby(group).filter(lambda x: len(x) > 5)"
   ]
  },
  {
   "cell_type": "code",
   "execution_count": 6,
   "metadata": {},
   "outputs": [
    {
     "name": "stderr",
     "output_type": "stream",
     "text": [
      "/tmp/ipykernel_14742/1705999295.py:1: FutureWarning: The default of observed=False is deprecated and will be changed to True in a future version of pandas. Pass observed=False to retain current behavior or observed=True to adopt the future default and silence this warning.\n",
      "  second_average = df.groupby(group)[\"duration\"].mean() / 1000\n"
     ]
    },
    {
     "data": {
      "text/plain": [
       "user_id  card_id\n",
       "1        0          21.982417\n",
       "         1          21.161000\n",
       "         2           9.254600\n",
       "         3          10.478875\n",
       "         4          19.205100\n",
       "                      ...    \n",
       "99       4182       60.000000\n",
       "         4183       60.000000\n",
       "         4184        7.125000\n",
       "         4185       60.000000\n",
       "         4186       60.000000\n",
       "Name: duration, Length: 1389052, dtype: float64"
      ]
     },
     "execution_count": 6,
     "metadata": {},
     "output_type": "execute_result"
    }
   ],
   "source": [
    "second_average = df.groupby(group)[\"duration\"].mean() / 1000\n",
    "second_average.dropna(inplace=True)\n",
    "second_average"
   ]
  },
  {
   "cell_type": "code",
   "execution_count": 14,
   "metadata": {},
   "outputs": [
    {
     "data": {
      "text/plain": [
       "count    1389052.000000\n",
       "mean          12.939422\n",
       "std           12.747078\n",
       "min            0.109500\n",
       "25%            5.000000\n",
       "50%            9.034500\n",
       "75%           16.957000\n",
       "max         1000.000000\n",
       "Name: duration, dtype: object"
      ]
     },
     "execution_count": 14,
     "metadata": {},
     "output_type": "execute_result"
    }
   ],
   "source": [
    "second_average.describe().apply(lambda x: format(x, 'f'))"
   ]
  },
  {
   "cell_type": "markdown",
   "metadata": {},
   "source": [
    "# Cards by average duration per review"
   ]
  },
  {
   "cell_type": "code",
   "execution_count": 7,
   "metadata": {},
   "outputs": [
    {
     "data": {
      "text/plain": [
       "<matplotlib.legend.Legend at 0x7fecbdb30440>"
      ]
     },
     "execution_count": 7,
     "metadata": {},
     "output_type": "execute_result"
    },
    {
     "data": {
      "image/png": "[encoded data removed]",
      "text/plain": [
       "<Figure size 640x480 with 1 Axes>"
      ]
     },
     "metadata": {},
     "output_type": "display_data"
    }
   ],
   "source": [
    "plt.clf()\n",
    "plt.hist(second_average, bins=30, range=(0, 60))\n",
    "median = second_average.median()\n",
    "LQ = second_average.quantile(.25)\n",
    "UQ = second_average.quantile(.75)\n",
    "plt.axvline(\n",
    "    median,\n",
    "    color=\"orange\",\n",
    "    linestyle=\"dashed\",\n",
    "    linewidth=2,\n",
    "    label=f\"Median: {median:.2f}\",\n",
    ")\n",
    "plt.axvline(\n",
    "    LQ,\n",
    "    color=\"black\",\n",
    "    linestyle=\"dashed\",\n",
    "    linewidth=2,\n",
    "    label=f\"Lower quartile: {LQ:.2f}\",\n",
    ")\n",
    "plt.axvline(\n",
    "    UQ,\n",
    "    color=\"black\",\n",
    "    linestyle=\"dashed\",\n",
    "    linewidth=2,\n",
    "    label=f\"Upper quartile: {UQ:.2f}\",\n",
    ")\n",
    "plt.ylabel(\"Card count\")\n",
    "plt.xlabel(\"Average time for all reviews\")\n",
    "\n",
    "plt.legend()"
   ]
  }
 ],
 "metadata": {
  "kernelspec": {
   "display_name": ".venv",
   "language": "python",
   "name": "python3"
  },
  "language_info": {
   "codemirror_mode": {
    "name": "ipython",
    "version": 3
   },
   "file_extension": ".py",
   "mimetype": "text/x-python",
   "name": "python",
   "nbconvert_exporter": "python",
   "pygments_lexer": "ipython3",
   "version": "3.13.2"
  }
 },
 "nbformat": 4,
 "nbformat_minor": 2
}
